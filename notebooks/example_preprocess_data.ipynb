{
 "cells": [
  {
   "cell_type": "code",
   "execution_count": 1,
   "id": "90625157",
   "metadata": {},
   "outputs": [],
   "source": [
    "import os\n",
    "os.chdir(\"..\")"
   ]
  },
  {
   "cell_type": "code",
   "execution_count": null,
   "id": "0bcde761",
   "metadata": {},
   "outputs": [],
   "source": [
    "from SSTImportanceSampling import Preprocessor"
   ]
  },
  {
   "cell_type": "markdown",
   "id": "c7d9ed52",
   "metadata": {},
   "source": [
    "1. Preprocess data"
   ]
  },
  {
   "cell_type": "code",
   "execution_count": null,
   "id": "0d3a3ff5",
   "metadata": {},
   "outputs": [],
   "source": [
    "example = Preprocessor(config_path = \"/workspaces/Importance-Sampling-for-SST/example-input-data/config.json\", \n",
    "                       output_folder = \"/workspaces/Importance-Sampling-for-SST/data/1_interim/example_run\")\n",
    "example.run()"
   ]
  },
  {
   "cell_type": "code",
   "execution_count": 4,
   "id": "ddfc2ce0",
   "metadata": {},
   "outputs": [],
   "source": [
    "#Reload if needed\n",
    "example = Preprocessor.load(config_path = \"/workspaces/Importance-Sampling-for-SST/data/1_interim/example_run/config.json\")"
   ]
  },
  {
   "cell_type": "code",
   "execution_count": null,
   "id": "fbd3b202",
   "metadata": {},
   "outputs": [],
   "source": [
    "print(\" - cumulative_precip :\", type(example.cumulative_precip))\n",
    "print(\" - storm_centers     :\", type(example.storm_centers))\n",
    "print(\" - domain_gdf        :\", type(example.domain_gdf))\n",
    "print(\" - watershed_gdf     :\", type(example.watershed_gdf))"
   ]
  }
 ],
 "metadata": {
  "kernelspec": {
   "display_name": "mbi-base",
   "language": "python",
   "name": "python3"
  },
  "language_info": {
   "codemirror_mode": {
    "name": "ipython",
    "version": 3
   },
   "file_extension": ".py",
   "mimetype": "text/x-python",
   "name": "python",
   "nbconvert_exporter": "python",
   "pygments_lexer": "ipython3",
   "version": "3.11.13"
  }
 },
 "nbformat": 4,
 "nbformat_minor": 5
}
