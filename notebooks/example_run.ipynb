{
 "cells": [
  {
   "cell_type": "code",
   "execution_count": 1,
   "id": "90625157",
   "metadata": {},
   "outputs": [],
   "source": [
    "import os\n",
    "os.chdir(\"..\")"
   ]
  },
  {
   "cell_type": "code",
   "execution_count": 2,
   "id": "0bcde761",
   "metadata": {},
   "outputs": [],
   "source": [
    "import matplotlib.pyplot as plt\n",
    "from SSTImportanceSampling import Preprocessor, ImportanceSampler,StormDepthProcessor"
   ]
  },
  {
   "cell_type": "markdown",
   "id": "c7d9ed52",
   "metadata": {},
   "source": [
    "1. Preprocess data"
   ]
  },
  {
   "cell_type": "code",
   "execution_count": 12,
   "id": "0d3a3ff5",
   "metadata": {},
   "outputs": [
    {
     "name": "stderr",
     "output_type": "stream",
     "text": [
      "Processing DSS files: 100%|██████████| 20/20 [00:23<00:00,  1.18s/it]\n"
     ]
    }
   ],
   "source": [
    "example = Preprocessor(config_path = \"/workspaces/Importance-Sampling-for-SST/example-input-data/config.json\", \n",
    "                       output_folder = \"/workspaces/Importance-Sampling-for-SST/data/1_interim/example_run\")\n",
    "example.run()"
   ]
  },
  {
   "cell_type": "code",
   "execution_count": 14,
   "id": "ddfc2ce0",
   "metadata": {},
   "outputs": [],
   "source": [
    "#Reload if needed\n",
    "example = Preprocessor.load(config_path = \"/workspaces/Importance-Sampling-for-SST/data/1_interim/example_run/config.json\")"
   ]
  },
  {
   "cell_type": "code",
   "execution_count": 15,
   "id": "fbd3b202",
   "metadata": {},
   "outputs": [
    {
     "name": "stdout",
     "output_type": "stream",
     "text": [
      "Available attributes:\n",
      " - cumulative_precip : <class 'xarray.core.dataarray.DataArray'>\n",
      " - storm_centers     : <class 'pandas.core.frame.DataFrame'>\n",
      " - domain_gdf        : <class 'geopandas.geodataframe.GeoDataFrame'>\n",
      " - watershed_gdf     : <class 'geopandas.geodataframe.GeoDataFrame'>\n"
     ]
    }
   ],
   "source": [
    "print(\"Available attributes:\")\n",
    "print(\" - cumulative_precip :\", type(example.cumulative_precip))\n",
    "print(\" - storm_centers     :\", type(example.storm_centers))\n",
    "print(\" - domain_gdf        :\", type(example.domain_gdf))\n",
    "print(\" - watershed_gdf     :\", type(example.watershed_gdf))"
   ]
  },
  {
   "cell_type": "code",
   "execution_count": null,
   "id": "f44bd8ef",
   "metadata": {},
   "outputs": [],
   "source": []
  }
 ],
 "metadata": {
  "kernelspec": {
   "display_name": "mbi-base",
   "language": "python",
   "name": "python3"
  },
  "language_info": {
   "codemirror_mode": {
    "name": "ipython",
    "version": 3
   },
   "file_extension": ".py",
   "mimetype": "text/x-python",
   "name": "python",
   "nbconvert_exporter": "python",
   "pygments_lexer": "ipython3",
   "version": "3.11.13"
  }
 },
 "nbformat": 4,
 "nbformat_minor": 5
}
