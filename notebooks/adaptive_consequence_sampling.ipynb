{
 "cells": [
  {
   "cell_type": "code",
   "execution_count": 1,
   "id": "db0af2ef",
   "metadata": {},
   "outputs": [],
   "source": [
    "import os\n",
    "os.chdir(\"..\")"
   ]
  },
  {
   "cell_type": "code",
   "execution_count": 2,
   "id": "ca454892",
   "metadata": {},
   "outputs": [],
   "source": [
    "import pandas as pd\n",
    "import numpy as np\n",
    "import matplotlib.pyplot as plt\n",
    "from matplotlib.gridspec import GridSpec\n",
    "from matplotlib.lines import Line2D\n",
    "from matplotlib.patches import Patch\n",
    "\n",
    "from SSTImportanceSampling  import Preprocessor, ImportanceSampler, StormDepthProcessor\n",
    "\n",
    "from production.utils import summarize_depths_by_return_period\n",
    "from production.metrics import metrics\n",
    "from production.plots import plot_return_period_summary, plot_two_return_period_summaries\n",
    "from production.plots import plot_adaptive_evolution\n",
    "\n",
    "from production.consequence_adaptive import AdaptParamsConsequence, AdaptiveMixtureConsequenceSampler,ConsequenceAdaptManager"
   ]
  },
  {
   "cell_type": "code",
   "execution_count": null,
   "id": "031e46dd",
   "metadata": {},
   "outputs": [],
   "source": [
    "watershed_names = [\"Trinity\",\"Kanawha\",\"Duwamish\",\"Denton\"]"
   ]
  },
  {
   "cell_type": "code",
   "execution_count": null,
   "id": "a247739c",
   "metadata": {},
   "outputs": [],
   "source": [
    "#Load data\n",
    "watersheds = {}\n",
    "\n",
    "for wname in watershed_names:\n",
    "    ws = Preprocessor.load(\n",
    "        config_path=f\"/workspaces/Importance-Sampling-for-SST/data/1_interim/{wname}/config.json\"\n",
    "    )\n",
    "    watersheds[wname] = ws"
   ]
  },
  {
   "cell_type": "code",
   "execution_count": null,
   "id": "9876640c",
   "metadata": {},
   "outputs": [],
   "source": [
    "#Full Monte Carlo summary\n",
    "base_dir = \"/workspaces/Importance-Sampling-for-SST/data/1_interim\"\n",
    "summary_filename = \"fullmonte_summary.pq\"\n",
    "\n",
    "# --- load summaries ---\n",
    "summaries = {}\n",
    "for w in watershed_names:\n",
    "    path = os.path.join(base_dir, w, summary_filename)\n",
    "    df = pd.read_parquet(path)\n",
    "    needed = {\"RP\",\"median_in\",\"ci95_low_in\",\"ci95_high_in\"}\n",
    "    if not needed <= set(df.columns):\n",
    "        raise ValueError(f\"{w}: summary missing columns {needed - set(df.columns)}\")\n",
    "    summaries[w] = df.sort_values(\"RP\")"
   ]
  },
  {
   "cell_type": "code",
   "execution_count": null,
   "id": "87c3603e",
   "metadata": {},
   "outputs": [],
   "source": [
    "watershed = watersheds[\"Denton\"]"
   ]
  },
  {
   "cell_type": "code",
   "execution_count": null,
   "id": "75d541e1",
   "metadata": {},
   "outputs": [],
   "source": [
    "params = AdaptParams(\n",
    "    mu_x_n=watershed.watershed_stats[\"x\"],\n",
    "    mu_y_n=watershed.watershed_stats[\"y\"],\n",
    "    sd_x_n=watershed.watershed_stats[\"range_x\"],\n",
    "    sd_y_n=watershed.watershed_stats[\"range_y\"],\n",
    "\n",
    "    mu_x_w=watershed.domain_stats[\"x\"],\n",
    "    mu_y_w=watershed.domain_stats[\"y\"],\n",
    "    sd_x_w=watershed.domain_stats[\"range_x\"]/np.sqrt(12),\n",
    "    sd_y_w=watershed.domain_stats[\"range_y\"]/np.sqrt(12),\n",
    "\n",
    "    rho_n=0.0,      # narrow corr\n",
    "    rho_w=0.0,      # wide corr\n",
    "    mix=0.8,        # initial narrow weight\n",
    "\n",
    "    # Optional tuning:\n",
    "    lambda_mix=0.30,\n",
    "    alpha=0.75,\n",
    "    K_temper=1.0,\n",
    ")\n",
    "\n",
    "sampler = AdaptiveMixtureConsequenceSampler(\n",
    "    data=watershed,\n",
    "    params=params,\n",
    "    precip_cube=watershed.cumulative_precip,\n",
    "    seed=42\n",
    ")\n",
    "\n",
    "mgr = ConsequenceAdaptManager(\n",
    "    sampler=sampler,\n",
    "    run_dir=\"./Denton_consequence_run\",\n",
    "    run_name=\"Denton_conseq_adapt\",\n",
    "    watershed_name=\"Denton\"\n",
    ")"
   ]
  },
  {
   "cell_type": "code",
   "execution_count": null,
   "id": "24dbf7e5",
   "metadata": {},
   "outputs": [],
   "source": [
    "# --- Quick peek at current params (optional) ---\n",
    "asdict(mgr.current_params())"
   ]
  },
  {
   "cell_type": "code",
   "execution_count": null,
   "id": "e07038c4",
   "metadata": {},
   "outputs": [],
   "source": [
    "iter_idx = 1               # bump this manually for the next iteration (2, 3, ...)\n",
    "samples_per_iter = 1000\n",
    "seed_for_iter = 12345      # or None to use internal RNG\n",
    "\n",
    "req_paths = mgr.sample_and_write_request(\n",
    "    iter_idx=iter_idx,\n",
    "    samples_per_iter=samples_per_iter,\n",
    "    seed=seed_for_iter\n",
    ")\n",
    "req_paths"
   ]
  },
  {
   "cell_type": "code",
   "execution_count": null,
   "id": "e56466f7",
   "metadata": {},
   "outputs": [],
   "source": [
    "#sample_id, consequence  f\"{run_dir}/iter_{iter_idx:03d}/to_hms.csv\""
   ]
  },
  {
   "cell_type": "code",
   "execution_count": null,
   "id": "0b2ec077",
   "metadata": {},
   "outputs": [],
   "source": [
    "consequence_csv_path = f\"{run_dir}/iter_{iter_idx:03d}/consequences.csv\"  # put your results there\n",
    "result_paths = mgr.adapt_once_with_consequences(\n",
    "    iter_idx=iter_idx,\n",
    "    consequences_csv_path=consequence_csv_path,\n",
    "    reward_col=\"consequence\",\n",
    "    threshold=0.0\n",
    ")\n",
    "result_paths"
   ]
  },
  {
   "cell_type": "code",
   "execution_count": null,
   "id": "4d0707f8",
   "metadata": {},
   "outputs": [],
   "source": [
    "pd.read_csv(Path(run_dir) / \"history.csv\")"
   ]
  },
  {
   "cell_type": "code",
   "execution_count": null,
   "id": "71754cb1",
   "metadata": {},
   "outputs": [],
   "source": [
    "from consequence_adapt import to_parquet  # convenience wrapper\n",
    "\n",
    "final_df = sampler.sample_batch(n=5000, iter_idx=999, seed=777)\n",
    "to_parquet(final_df, Path(run_dir) / \"final_draws.parquet\")\n",
    "final_df.head()"
   ]
  }
 ],
 "metadata": {
  "kernelspec": {
   "display_name": "mbi-base",
   "language": "python",
   "name": "python3"
  },
  "language_info": {
   "codemirror_mode": {
    "name": "ipython",
    "version": 3
   },
   "file_extension": ".py",
   "mimetype": "text/x-python",
   "name": "python",
   "nbconvert_exporter": "python",
   "pygments_lexer": "ipython3",
   "version": "3.11.13"
  }
 },
 "nbformat": 4,
 "nbformat_minor": 5
}
