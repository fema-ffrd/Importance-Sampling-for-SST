{
 "cells": [
  {
   "cell_type": "code",
   "execution_count": null,
   "id": "b821ac15",
   "metadata": {},
   "outputs": [],
   "source": [
    "#Read a .json file with links to domain, watershed, dss files folder\n",
    "#Ask for output folder\n",
    "#Return a new .json with those three links along with the .nc file, gpkg of the geojsons, and orignal dss files location \n",
    "#geojsons are converted to shg\n",
    "#Storm centers are calculated based on where the precip is maxed, .pq file\n",
    "#Preprocessor.load function to reload the data from the json file   "
   ]
  },
  {
   "cell_type": "code",
   "execution_count": null,
   "id": "1e0c3adf",
   "metadata": {},
   "outputs": [],
   "source": []
  }
 ],
 "metadata": {
  "kernelspec": {
   "display_name": "mbi-base",
   "language": "python",
   "name": "python3"
  },
  "language_info": {
   "name": "python",
   "version": "3.11.13"
  }
 },
 "nbformat": 4,
 "nbformat_minor": 5
}
