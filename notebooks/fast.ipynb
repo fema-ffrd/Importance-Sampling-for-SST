{
 "cells": [
  {
   "cell_type": "code",
   "execution_count": 7,
   "id": "9df1cf78",
   "metadata": {},
   "outputs": [
    {
     "data": {
      "text/plain": [
       "['nsi_la']"
      ]
     },
     "execution_count": 7,
     "metadata": {},
     "output_type": "execute_result"
    }
   ],
   "source": [
    "import fiona\n",
    "fiona.listlayers('/workspaces/Importance-Sampling-for-SST/data/0_source/Denton/nsi_la.gpkg')\n"
   ]
  },
  {
   "cell_type": "code",
   "execution_count": null,
   "id": "bb20f3cc",
   "metadata": {},
   "outputs": [],
   "source": []
  }
 ],
 "metadata": {
  "kernelspec": {
   "display_name": "mbi-base",
   "language": "python",
   "name": "python3"
  },
  "language_info": {
   "codemirror_mode": {
    "name": "ipython",
    "version": 3
   },
   "file_extension": ".py",
   "mimetype": "text/x-python",
   "name": "python",
   "nbconvert_exporter": "python",
   "pygments_lexer": "ipython3",
   "version": "3.11.13"
  }
 },
 "nbformat": 4,
 "nbformat_minor": 5
}
